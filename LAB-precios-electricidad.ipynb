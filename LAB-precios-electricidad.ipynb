{
 "cells": [
  {
   "cell_type": "markdown",
   "metadata": {},
   "source": [
    "Evolución de los Precios de la Electricidad\n",
    "==="
   ]
  },
  {
   "cell_type": "markdown",
   "metadata": {},
   "source": [
    "# Instrucciones"
   ]
  },
  {
   "cell_type": "markdown",
   "metadata": {},
   "source": [
    "En el archivo `precios.zip`  se encuentran los archivos `Precio_Bolsa_Nacional_($kwh)_ano.xls` en formato de Microsoft Excel, los cuales contienen los precios históricos horarios de la electricidad para el mercado eléctrico Colombiano entre los años 1995 y 2017 en COL-PESOS/kWh. A partir de la información suministrada realice las siguientes actividades. "
   ]
  },
  {
   "cell_type": "markdown",
   "metadata": {},
   "source": [
    "**1.--** Lea los archivos y cree una tabla única concatenando la información para cada uno de los años. Debe transformar la tabla de tal forma que quede con las columnas `Fecha`, `Hora` y `Precio` (únicamente tres columnas)."
   ]
  },
  {
   "cell_type": "code",
   "execution_count": 1,
   "metadata": {},
   "outputs": [],
   "source": [
    "import matplotlib.pyplot as plt\n",
    "import matplotlib as mpl\n",
    "import pandas as pd\n",
    "import numpy as np\n",
    "import datetime as dt\n",
    "import glob\n",
    "\n",
    "%matplotlib inline"
   ]
  },
  {
   "cell_type": "code",
   "execution_count": 2,
   "metadata": {},
   "outputs": [],
   "source": [
    "def LeerPrecios(filename):\n",
    "    for indice in range(10):\n",
    "        DataFrame = pd.read_excel(filename,skiprows = indice ,usecols = list(range(25)))\n",
    "        if DataFrame.iloc[0,0] == 'Fecha':\n",
    "            DataFrame = pd.read_excel(filename,skiprows = indice+1, usecols = list(range(25)))\n",
    "            break\n",
    "    return DataFrame"
   ]
  },
  {
   "cell_type": "code",
   "execution_count": 3,
   "metadata": {},
   "outputs": [],
   "source": [
    "Archivos = !ls Files/*.xls*\n",
    "DataFrames = []\n",
    "for filename in Archivos:\n",
    "    DataFrames.append(LeerPrecios(filename))\n",
    "DataFrames = pd.concat(DataFrames)\n",
    "DataFrames = pd.melt(DataFrames,id_vars = 'Fecha')\n",
    "DataFrames.columns = ['Fecha','Hora','Precio']"
   ]
  },
  {
   "cell_type": "markdown",
   "metadata": {},
   "source": [
    "**2.--** Compute e imprima el número de registros con datos faltantes."
   ]
  },
  {
   "cell_type": "code",
   "execution_count": 4,
   "metadata": {},
   "outputs": [
    {
     "data": {
      "text/plain": [
       "454"
      ]
     },
     "execution_count": 4,
     "metadata": {},
     "output_type": "execute_result"
    }
   ],
   "source": [
    "DataFrames.isnull().sum().sum()"
   ]
  },
  {
   "cell_type": "markdown",
   "metadata": {},
   "source": [
    "**3.--** Compute e imprima el número de registros duplicados."
   ]
  },
  {
   "cell_type": "code",
   "execution_count": 5,
   "metadata": {},
   "outputs": [
    {
     "data": {
      "text/plain": [
       "1951"
      ]
     },
     "execution_count": 5,
     "metadata": {},
     "output_type": "execute_result"
    }
   ],
   "source": [
    "DataFrameSinRepetir = DataFrames.copy()\n",
    "DataFrameSinRepetir = len(DataFrameSinRepetir.drop_duplicates().index)\n",
    "TotalRepetidos =  len(DataFrames.index) - DataFrameSinRepetir\n",
    "TotalRepetidos"
   ]
  },
  {
   "cell_type": "markdown",
   "metadata": {},
   "source": [
    "**4.--** Elimine los registros con datos duplicados o datos faltantes, e imprima la cantidad de registros que quedan (registros completos)."
   ]
  },
  {
   "cell_type": "code",
   "execution_count": 6,
   "metadata": {},
   "outputs": [
    {
     "data": {
      "text/plain": [
       "199819"
      ]
     },
     "execution_count": 6,
     "metadata": {},
     "output_type": "execute_result"
    }
   ],
   "source": [
    "DataFrameSinRepetir = DataFrames.copy()\n",
    "DataFrameSinRepetir = (DataFrameSinRepetir.drop_duplicates())\n",
    "DataFrameSinRepetir = DataFrameSinRepetir.dropna()\n",
    "len(DataFrameSinRepetir.index)"
   ]
  },
  {
   "cell_type": "markdown",
   "metadata": {},
   "source": [
    "**5.--** Compute y grafique el precio primedio diario."
   ]
  },
  {
   "cell_type": "code",
   "execution_count": 7,
   "metadata": {},
   "outputs": [
    {
     "data": {
      "text/plain": [
       "Text(0.5, 0, 'Día')"
      ]
     },
     "execution_count": 7,
     "metadata": {},
     "output_type": "execute_result"
    },
    {
     "data": {
      "image/png": "[encoded data removed]",
      "text/plain": [
       "<Figure size 432x288 with 1 Axes>"
      ]
     },
     "metadata": {
      "needs_background": "light"
     },
     "output_type": "display_data"
    }
   ],
   "source": [
    "DatosPorDia = DataFrameSinRepetir.copy()\n",
    "DatosPorDia['Fecha'] = pd.to_datetime(DatosPorDia['Fecha'])\n",
    "DatosPorDia['Dia'] =  DatosPorDia[['Fecha']].apply(lambda x: dt.datetime.strftime(x['Fecha'], '%A'), axis=1)\n",
    "DatosPorDia = DatosPorDia.groupby('Dia').agg({'Precio': np.mean}) \n",
    "sorter = ['Monday', 'Tuesday', 'Wednesday', 'Thursday', 'Friday', 'Saturday', 'Sunday']\n",
    "sorterIndex = dict(zip(sorter,range(len(sorter))))\n",
    "DatosPorDia.reset_index(inplace=True)\n",
    "DatosPorDia['DayRank'] = DatosPorDia['Dia'].map(sorterIndex)\n",
    "DatosPorDiaOrdenadosPorDia = (DatosPorDia.sort_values('DayRank'))\n",
    "plt.bar(range(7), DatosPorDiaOrdenadosPorDia['Precio'])\n",
    "plt.xticks(range(7), list(DatosPorDiaOrdenadosPorDia['Dia']), rotation='vertical')\n",
    "plt.title('Precio promedio de Energía Diario')\n",
    "plt.xlabel('Día')"
   ]
  },
  {
   "cell_type": "markdown",
   "metadata": {},
   "source": [
    "**6.--** Compute y grafique el precio máximo por mes."
   ]
  },
  {
   "cell_type": "code",
   "execution_count": 8,
   "metadata": {},
   "outputs": [
    {
     "data": {
      "text/plain": [
       "Text(0.5, 0, 'Mes')"
      ]
     },
     "execution_count": 8,
     "metadata": {},
     "output_type": "execute_result"
    },
    {
     "data": {
      "image/png": "[encoded data removed]",
      "text/plain": [
       "<Figure size 432x288 with 1 Axes>"
      ]
     },
     "metadata": {
      "needs_background": "light"
     },
     "output_type": "display_data"
    }
   ],
   "source": [
    "DatosPorMesMaximo = DataFrameSinRepetir.copy()\n",
    "DatosPorMesMaximo['Fecha'] = pd.to_datetime(DatosPorMesMaximo['Fecha'])\n",
    "DatosPorMesMaximo['Mes'] =  DatosPorMesMaximo[['Fecha']].apply(lambda x: dt.datetime.strftime(x['Fecha'], '%m'), axis=1)\n",
    "DatosPorMesMaximo = DatosPorMesMaximo.groupby('Mes').agg({'Precio': np.max}) \n",
    "plt.bar(range(12), DatosPorMesMaximo['Precio'])\n",
    "plt.xticks(range(12), (list(DatosPorMesMaximo.index)), rotation='vertical')\n",
    "plt.title('Precio máximo de Energía Mensual')\n",
    "plt.xlabel('Mes')"
   ]
  },
  {
   "cell_type": "markdown",
   "metadata": {},
   "source": [
    "**7.--** Compute y grafique el precio mínimo mensual."
   ]
  },
  {
   "cell_type": "code",
   "execution_count": 9,
   "metadata": {},
   "outputs": [
    {
     "data": {
      "text/plain": [
       "Text(0.5, 0, 'Mes')"
      ]
     },
     "execution_count": 9,
     "metadata": {},
     "output_type": "execute_result"
    },
    {
     "data": {
      "image/png": "[encoded data removed]",
      "text/plain": [
       "<Figure size 432x288 with 1 Axes>"
      ]
     },
     "metadata": {
      "needs_background": "light"
     },
     "output_type": "display_data"
    }
   ],
   "source": [
    "DatosPorMesMinimo = DataFrameSinRepetir.copy()\n",
    "DatosPorMesMinimo['Fecha'] = pd.to_datetime(DatosPorMesMinimo['Fecha'])\n",
    "DatosPorMesMinimo['Mes'] =  DatosPorMesMinimo[['Fecha']].apply(lambda x: dt.datetime.strftime(x['Fecha'], '%m'), axis=1)\n",
    "DatosPorMesMinimo = DatosPorMesMinimo.groupby('Mes').agg({'Precio': np.min}) \n",
    "plt.bar(range(12), DatosPorMesMinimo['Precio'])\n",
    "plt.xticks(range(12), (list(DatosPorMesMinimo.index)), rotation='vertical')\n",
    "plt.title('Precio mínimo de Energía Mensual')\n",
    "plt.xlabel('Mes')"
   ]
  },
  {
   "cell_type": "markdown",
   "metadata": {},
   "source": [
    "**8.--** Haga un gráfico para comparar el precio máximo del mes (para cada mes) y el precio promedio mensual."
   ]
  },
  {
   "cell_type": "code",
   "execution_count": 12,
   "metadata": {},
   "outputs": [
    {
     "data": {
      "text/plain": [
       "Text(0.5, 0, 'Mes')"
      ]
     },
     "execution_count": 12,
     "metadata": {},
     "output_type": "execute_result"
    },
    {
     "data": {
      "image/png": "[encoded data removed]",
      "text/plain": [
       "<Figure size 1152x432 with 2 Axes>"
      ]
     },
     "metadata": {
      "needs_background": "light"
     },
     "output_type": "display_data"
    }
   ],
   "source": [
    "DatosPorMesPromedio = DataFrameSinRepetir.copy()\n",
    "DatosPorMesPromedio['Fecha'] = pd.to_datetime(DatosPorMesPromedio['Fecha'])\n",
    "DatosPorMesPromedio['Mes'] =  DatosPorMesPromedio[['Fecha']].apply(lambda x: dt.datetime.strftime(x['Fecha'], '%m'), axis=1)\n",
    "DatosPorMesPromedio = DatosPorMesPromedio.groupby('Mes').agg({'Precio': np.mean}) \n",
    "\n",
    "plt.figure(figsize=(16, 6))\n",
    "plt.subplot(1, 2 , 1)\n",
    "plt.bar(range(12), DatosPorMesMaximo['Precio'])\n",
    "plt.xticks(range(12), (list(DatosPorMesMaximo.index)), rotation='vertical')\n",
    "plt.title('Precio máximo de Energía Mensual')\n",
    "plt.xlabel('Mes')\n",
    "plt.subplot(1, 2 , 2)\n",
    "plt.bar(range(12), DatosPorMesPromedio['Precio'])\n",
    "plt.xticks(range(12), (list(DatosPorMesPromedio.index)), rotation='vertical')\n",
    "plt.title('Precio Promedio de Energía Mensual')\n",
    "plt.xlabel('Mes')\n"
   ]
  },
  {
   "cell_type": "markdown",
   "metadata": {},
   "source": [
    "**9.--** Haga un histograma que muestre a que horas se produce el máximo precio diario para los días laborales."
   ]
  },
  {
   "cell_type": "code",
   "execution_count": 13,
   "metadata": {},
   "outputs": [],
   "source": [
    "DatosPorDia = DataFrameSinRepetir.copy()\n",
    "DatosPorDia['Fecha'] = pd.to_datetime(DatosPorDia['Fecha'])\n",
    "DatosPorDia['Dia'] =  DatosPorDia[['Fecha']].apply(lambda x: dt.datetime.strftime(x['Fecha'], '%A'), axis=1)\n",
    "ListaDeDiasHabiles = ['Monday', 'Tuesday', 'Wednesday', 'Thursday', 'Friday']\n",
    "DataFramePorDiasLaborarles = DatosPorDia[(DatosPorDia['Dia'] == 'Monday') | (DatosPorDia['Dia'] == 'Tuesday')| (DatosPorDia['Dia'] == 'Wednesday')| (DatosPorDia['Dia'] == 'Thursday')| (DatosPorDia['Dia'] == 'Friday')]\n",
    "DataFrameAgrupadoPorFecha = DataFramePorDiasLaborarles.groupby('Fecha').agg({'Precio': np.max}) \n",
    "DataFrameAgrupadoPorFecha.reset_index(inplace=True)\n",
    "DataFramesMerge = pd.merge(DataFramePorDiasLaborarles, DataFrameAgrupadoPorFecha, on=['Fecha','Precio'], how='inner')\n"
   ]
  },
  {
   "cell_type": "code",
   "execution_count": 14,
   "metadata": {},
   "outputs": [
    {
     "data": {
      "text/plain": [
       "Text(0, 0.5, 'Numero de ocurrencias')"
      ]
     },
     "execution_count": 14,
     "metadata": {},
     "output_type": "execute_result"
    },
    {
     "data": {
      "image/png": "[encoded data removed]",
      "text/plain": [
       "<Figure size 432x288 with 1 Axes>"
      ]
     },
     "metadata": {
      "needs_background": "light"
     },
     "output_type": "display_data"
    }
   ],
   "source": [
    "ListaDeHoras = list(map(int,DataFramesMerge['Hora'].tolist()))\n",
    "plt.hist(ListaDeHoras, bins=24)\n",
    "plt.title('Histograma : Horas en las que se presento el precio máximo \"Lunes-Viernes\"')\n",
    "plt.xlabel('Horas')\n",
    "plt.ylabel('Numero de ocurrencias')"
   ]
  },
  {
   "cell_type": "markdown",
   "metadata": {},
   "source": [
    "**10.--** Haga un histograma que muestre a que horas se produce el máximo precio diario para los días sabado."
   ]
  },
  {
   "cell_type": "code",
   "execution_count": 15,
   "metadata": {},
   "outputs": [],
   "source": [
    "DatosPorDia = DataFrameSinRepetir.copy()\n",
    "DatosPorDia['Fecha'] = pd.to_datetime(DatosPorDia['Fecha'])\n",
    "DatosPorDia['Dia'] =  DatosPorDia[['Fecha']].apply(lambda x: dt.datetime.strftime(x['Fecha'], '%A'), axis=1)\n",
    "DataFramePorDiaSabado = DatosPorDia[(DatosPorDia['Dia'] == 'Saturday') ]\n",
    "DataFrameAgrupadoPorFecha = DataFramePorDiaSabado.groupby('Fecha').agg({'Precio': np.max}) \n",
    "DataFrameAgrupadoPorFecha.reset_index(inplace=True)\n",
    "DataFramesMerge = pd.merge(DataFramePorDiaSabado, DataFrameAgrupadoPorFecha, on=['Fecha','Precio'], how='inner')"
   ]
  },
  {
   "cell_type": "code",
   "execution_count": 16,
   "metadata": {},
   "outputs": [
    {
     "data": {
      "text/plain": [
       "Text(0, 0.5, 'Numero de ocurrencias')"
      ]
     },
     "execution_count": 16,
     "metadata": {},
     "output_type": "execute_result"
    },
    {
     "data": {
      "image/png": "[encoded data removed]",
      "text/plain": [
       "<Figure size 432x288 with 1 Axes>"
      ]
     },
     "metadata": {
      "needs_background": "light"
     },
     "output_type": "display_data"
    }
   ],
   "source": [
    "ListaDeHoras = list(map(int,DataFramesMerge['Hora'].tolist()))\n",
    "plt.hist(ListaDeHoras, bins=24)\n",
    "plt.title('Histograma : Horas en las que se presento el precio máximo \"Sabado\"')\n",
    "plt.xlabel('Horas')\n",
    "plt.ylabel('Numero de ocurrencias')"
   ]
  },
  {
   "cell_type": "markdown",
   "metadata": {},
   "source": [
    "**11.--** Haga un histograma que muestre a que horas se produce el máximo precio diario para los días domingo."
   ]
  },
  {
   "cell_type": "code",
   "execution_count": 17,
   "metadata": {},
   "outputs": [],
   "source": [
    "DatosPorDia = DataFrameSinRepetir.copy()\n",
    "DatosPorDia['Fecha'] = pd.to_datetime(DatosPorDia['Fecha'])\n",
    "DatosPorDia['Dia'] =  DatosPorDia[['Fecha']].apply(lambda x: dt.datetime.strftime(x['Fecha'], '%A'), axis=1)\n",
    "DataFramePorDiaDomingo = DatosPorDia[(DatosPorDia['Dia'] == 'Sunday') ]\n",
    "DataFrameAgrupadoPorFecha = DataFramePorDiaDomingo.groupby('Fecha').agg({'Precio': np.max}) \n",
    "DataFrameAgrupadoPorFecha.reset_index(inplace=True)\n",
    "DataFramesMerge = pd.merge(DataFramePorDiaDomingo, DataFrameAgrupadoPorFecha, on=['Fecha','Precio'], how='inner')"
   ]
  },
  {
   "cell_type": "code",
   "execution_count": 19,
   "metadata": {},
   "outputs": [
    {
     "data": {
      "text/plain": [
       "Text(0, 0.5, 'Numero de ocurrencias')"
      ]
     },
     "execution_count": 19,
     "metadata": {},
     "output_type": "execute_result"
    },
    {
     "data": {
      "image/png": "[encoded data removed]",
      "text/plain": [
       "<Figure size 432x288 with 1 Axes>"
      ]
     },
     "metadata": {
      "needs_background": "light"
     },
     "output_type": "display_data"
    }
   ],
   "source": [
    "ListaDeHoras = list(map(int,DataFramesMerge['Hora'].tolist()))\n",
    "plt.hist(ListaDeHoras, bins=24)\n",
    "plt.title('Histograma : Horas en las que se presento el precio máximo \"Domingo\"')\n",
    "plt.xlabel('Horas')\n",
    "plt.ylabel('Numero de ocurrencias')"
   ]
  },
  {
   "cell_type": "markdown",
   "metadata": {},
   "source": [
    "**12.--** Imprima una tabla con la fecha y el valor más bajo por año del precio de bolsa."
   ]
  },
  {
   "cell_type": "code",
   "execution_count": 35,
   "metadata": {},
   "outputs": [
    {
     "name": "stdout",
     "output_type": "stream",
     "text": [
      "            Fecha  MinPrecio\n",
      "7      1995-07-28   0.000000\n",
      "10     1995-07-31   0.000000\n",
      "11     1995-08-01   0.000000\n",
      "84     1995-10-13   0.000000\n",
      "338    1995-07-29   0.000000\n",
      "339    1995-07-30   0.000000\n",
      "3800   1995-07-26   0.000000\n",
      "4140   1996-06-30   0.000000\n",
      "4149   1996-07-09   0.000000\n",
      "4152   1996-07-12   0.000000\n",
      "4162   1996-07-22   0.000000\n",
      "4163   1996-07-23   0.000000\n",
      "4164   1996-07-24   0.000000\n",
      "4876   1996-07-04   0.000000\n",
      "5981   1996-07-11   0.000000\n",
      "7749   1996-05-10   0.000000\n",
      "9651   1996-07-21   0.000000\n",
      "12566  1996-07-08   0.000000\n",
      "13668  1997-07-15  10.882310\n",
      "21695  1998-07-12  13.847330\n",
      "21696  1998-07-13  13.847330\n",
      "21697  1998-07-14  13.847330\n",
      "21698  1998-07-15  13.847330\n",
      "21699  1998-07-16  13.847330\n",
      "21701  1998-07-18  13.847330\n",
      "21702  1998-07-19  13.847330\n",
      "21703  1998-07-20  13.847330\n",
      "21704  1998-07-21  13.847330\n",
      "21705  1998-07-22  13.847330\n",
      "21706  1998-07-23  13.847330\n",
      "...           ...        ...\n",
      "32539  1999-03-28  18.359530\n",
      "37652  1999-03-31  18.359530\n",
      "41303  2000-03-25  21.531167\n",
      "41304  2000-03-26  21.531167\n",
      "41306  2000-03-28  21.531167\n",
      "44233  2000-03-27  21.531167\n",
      "45333  2000-03-29  21.531167\n",
      "45335  2000-03-31  21.531167\n",
      "49133  2001-08-20  24.822879\n",
      "56685  2002-04-29  26.777682\n",
      "57041  2002-04-20  26.777682\n",
      "57046  2002-04-25  26.777682\n",
      "57409  2002-04-23  26.777682\n",
      "65371  2003-02-14  37.013438\n",
      "74541  2004-03-29  32.252998\n",
      "83147  2005-10-04  27.581415\n",
      "92650  2006-10-17  26.714797\n",
      "100513 2007-05-03  30.173824\n",
      "109297 2008-05-26  29.199135\n",
      "118290 2009-12-22  32.892503\n",
      "118657 2009-12-24  32.892503\n",
      "126887 2010-07-12  32.024957\n",
      "135611 2011-06-06  33.291100\n",
      "146530 2012-04-29  34.988099\n",
      "153007 2013-01-09  40.415346\n",
      "162495 2014-01-11  38.941951\n",
      "171250 2015-01-06  46.791501\n",
      "179618 2016-12-09  61.100689\n",
      "188145 2017-03-28  60.312095\n",
      "197289 2018-04-06  61.457224\n",
      "\n",
      "[71 rows x 2 columns]\n"
     ]
    }
   ],
   "source": [
    "DatosPorDia = DataFrameSinRepetir.copy()\n",
    "DatosPorDia['Fecha'] = pd.to_datetime(DatosPorDia['Fecha'])\n",
    "DatosPorDia['Year'] =  DatosPorDia[['Fecha']].apply(lambda x: dt.datetime.strftime(x['Fecha'], '%Y'), axis=1)\n",
    "DataFrameAgrupadoPorFecha = DatosPorDia.groupby('Year').agg({'Precio': np.min}) \n",
    "DataFrameAgrupadoPorFecha.reset_index(inplace=True)\n",
    "DataFrameAgrupadoPorFecha.columns = [\"Year\",\"MinPrecio\"]\n",
    "DataFramesMerge = pd.merge(DataFrameAgrupadoPorFecha, DatosPorDia, on = ['Year'], how ='inner')\n",
    "DataFramesMerge = DataFramesMerge[(DataFramesMerge['MinPrecio'] == DataFramesMerge['Precio'])]\n",
    "print(DataFramesMerge[['Fecha','MinPrecio']].drop_duplicates())"
   ]
  },
  {
   "cell_type": "markdown",
   "metadata": {},
   "source": [
    "**13.--** Haga una gráfica en que se muestre el precio promedio diario y el precio promedio mensual."
   ]
  },
  {
   "cell_type": "code",
   "execution_count": 21,
   "metadata": {},
   "outputs": [],
   "source": [
    "DatosPorMesPromedio = DataFrameSinRepetir.copy()\n",
    "DatosPorMesPromedio['Fecha'] = pd.to_datetime(DatosPorMesPromedio['Fecha'])\n",
    "DatosPorMesPromedio['Mes'] =  DatosPorMesPromedio[['Fecha']].apply(lambda x: dt.datetime.strftime(x['Fecha'], '%m'), axis=1)\n",
    "DatosPorMesPromedio['year'] =  DatosPorMesPromedio[['Fecha']].apply(lambda x: dt.datetime.strftime(x['Fecha'], '%Y'), axis=1)\n",
    "DatosPorMesYear = DatosPorMesPromedio.groupby(['Mes','year']).agg({'Precio': np.mean}) \n",
    "DatosPorMesYear.reset_index(inplace=True)\n",
    "DatosPorMesYear.columns = ['Mes','year','PromedioPorMes']\n",
    "\n",
    "DataFramesMerge = pd.merge(DatosPorMesYear, DatosPorMesPromedio, on = ['Mes','year'], how ='inner')\n",
    "\n",
    "DatosPorDia = DataFrameSinRepetir.copy()\n",
    "DatosPorDia['Fecha'] = pd.to_datetime(DatosPorDia['Fecha'])\n",
    "DatosPorDia = DatosPorDia.groupby('Fecha').agg({'Precio': np.mean}) \n",
    "DatosPorDia.reset_index(inplace=True)\n",
    "DatosPorDia.columns = ['Fecha','PrecioPorDia']\n",
    "\n",
    "DataFramesMerge = pd.merge(DatosPorMesYear, DatosPorMesPromedio, on = ['Mes','year'], how ='inner')\n",
    "DataFramesMerge = pd.merge(DataFramesMerge, DatosPorDia, on = ['Fecha'], how ='inner')\n",
    "DataFrameHaGraficar = DataFramesMerge.groupby('Fecha').agg({'PrecioPorDia': np.mean,'PromedioPorMes': np.mean}) \n"
   ]
  },
  {
   "cell_type": "code",
   "execution_count": 25,
   "metadata": {},
   "outputs": [
    {
     "data": {
      "text/plain": [
       "<matplotlib.legend.Legend at 0x7f8c33e842b0>"
      ]
     },
     "execution_count": 25,
     "metadata": {},
     "output_type": "execute_result"
    },
    {
     "data": {
      "text/plain": [
       "<Figure size 1440x1440 with 0 Axes>"
      ]
     },
     "metadata": {},
     "output_type": "display_data"
    },
    {
     "data": {
      "image/png": "[encoded data removed]",
      "text/plain": [
       "<Figure size 432x288 with 1 Axes>"
      ]
     },
     "metadata": {
      "needs_background": "light"
     },
     "output_type": "display_data"
    }
   ],
   "source": [
    "plt.figure(figsize=(20, 20))\n",
    "fig, ax = plt.subplots()\n",
    "ax.plot((DataFrameHaGraficar.index.tolist()), DataFrameHaGraficar['PrecioPorDia'], label=\"Precio promedio por día\")\n",
    "ax.plot((DataFrameHaGraficar.index.tolist()), DataFrameHaGraficar['PromedioPorMes'], label=\"Precio promedio por mes\")\n",
    "plt.xlabel(\"Año\")\n",
    "plt.ylabel(\"Precio\")\n",
    "\n",
    "ax.legend()\n"
   ]
  },
  {
   "cell_type": "markdown",
   "metadata": {},
   "source": [
    "---"
   ]
  }
 ],
 "metadata": {
  "anaconda-cloud": {},
  "kernel_info": {
   "name": "python3"
  },
  "kernelspec": {
   "display_name": "Python 3",
   "language": "python",
   "name": "python3"
  },
  "language_info": {
   "codemirror_mode": {
    "name": "ipython",
    "version": 3
   },
   "file_extension": ".py",
   "mimetype": "text/x-python",
   "name": "python",
   "nbconvert_exporter": "python",
   "pygments_lexer": "ipython3",
   "version": "3.6.7"
  },
  "nteract": {
   "version": "0.7.1"
  }
 },
 "nbformat": 4,
 "nbformat_minor": 2
}
